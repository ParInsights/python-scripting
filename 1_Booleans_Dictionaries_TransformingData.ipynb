#!/usr/bin/env python3
# -*- coding: utf-8 -*-
"""
Created on Sun Oct 20 17:00:00 2019

@author: parinpatel
"""
import os 

#import and review file
def NBAfile():
     file_to_open = os.path.expanduser('~/Documents/IST 652 - Scripting/Lab1/nba_attendance_1989.txt')
     NBA = open(file_to_open)
     print(NBA.read())
NBAfile()

#read NBA file- 
with open('nba_attendance_1989.txt', 'r') as f:
    textline = f.readline()   
    
for line in f:
    team, attendance, price = textline.split("") 
    print("The attendance  at ", team, "was", attendance, "and ticket price was $", price) #Print String
    textline = f.readline()

f.close()