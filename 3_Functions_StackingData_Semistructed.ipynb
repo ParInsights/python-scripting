{
 "cells": [
  {
   "cell_type": "markdown",
   "metadata": {},
   "source": [
    "# Lab 3 \n",
    "Parin Patel \n"
   ]
  },
  {
   "cell_type": "markdown",
   "metadata": {},
   "source": [
    "# Problem 1:\n",
    "What will the following Python program print out?"
   ]
  },
  {
   "cell_type": "code",
   "execution_count": 2,
   "metadata": {},
   "outputs": [
    {
     "name": "stdout",
     "output_type": "stream",
     "text": [
      "ABCdef\n",
      "Zapped\n",
      "ABCdef\n"
     ]
    }
   ],
   "source": [
    "def fred(): print(\"Zapped\")\n",
    "def jane(): print(\"ABCdef\")\n",
    "jane()\n",
    "fred() \n",
    "jane()"
   ]
  },
  {
   "cell_type": "markdown",
   "metadata": {},
   "source": [
    "**Problem 1 Answer:**  d) ABCdef Zapped ABCdef"
   ]
  },
  {
   "cell_type": "markdown",
   "metadata": {},
   "source": [
    "# Problem 2:\n",
    "\n",
    "Rewrite your pay computation with time-and-a-half for overtime and create a function called computepay that takes two parameters (hours and rate) and returns Gross pay.\n",
    "Make sure to display your results with the label of Gross pay:.\n",
    "Call the function 3 or 4 times and enter different values (at least one with over 40 hours).\n"
   ]
  },
  {
   "cell_type": "code",
   "execution_count": 7,
   "metadata": {},
   "outputs": [
    {
     "name": "stdout",
     "output_type": "stream",
     "text": [
      "Enter hours: 45\n",
      "Enter rate: 10\n",
      "Pay:  475.0\n"
     ]
    }
   ],
   "source": [
    "#Hours = 45\n",
    "#rate = 10\n",
    "\n",
    "def computePay(hours, rate):\n",
    "    if hours > 40:\n",
    "        pay = 40 * rate\n",
    "        pay += (hours - 40) * rate * 1.5\n",
    "    elif hours <= 40:\n",
    "        pay = hours * rate\n",
    "    return pay\n",
    "\n",
    "\n",
    "try:\n",
    "    hours = int(input(\"Enter Hours: \"))\n",
    "    rate = int(input(\"Enter Rate: \"))\n",
    "    print(\"Pay: \", computePay(hours, rate))\n",
    "except:\n",
    "    print(\"Enter Whole Number\")\n",
    "    quit()"
   ]
  },
  {
   "cell_type": "code",
   "execution_count": 8,
   "metadata": {},
   "outputs": [
    {
     "name": "stdout",
     "output_type": "stream",
     "text": [
      "Enter Hours: 60\n",
      "Enter Rate: 12\n",
      "Pay:  840.0\n"
     ]
    }
   ],
   "source": [
    "#Hours = 60\n",
    "#rate = 12\n",
    "\n",
    "def computePay(hours, rate):\n",
    "    if hours > 40:\n",
    "        pay = 40 * rate\n",
    "        pay += (hours - 40) * rate * 1.5\n",
    "    elif hours <= 40:\n",
    "        pay = hours * rate\n",
    "    return pay\n",
    "\n",
    "\n",
    "try:\n",
    "    hours = int(input(\"Enter Hours: \"))\n",
    "    rate = int(input(\"Enter Rate: \"))\n",
    "    print(\"Pay: \", computePay(hours, rate))\n",
    "except:\n",
    "    print(\"Enter Whole Number\")\n",
    "    quit()"
   ]
  },
  {
   "cell_type": "code",
   "execution_count": 9,
   "metadata": {},
   "outputs": [
    {
     "name": "stdout",
     "output_type": "stream",
     "text": [
      "Enter Hours: 10\n",
      "Enter Rate: 2\n",
      "Pay:  20\n"
     ]
    }
   ],
   "source": [
    "#Hours = 10\n",
    "#rate = 2\n",
    "\n",
    "def computePay(hours, rate):\n",
    "    if hours > 40:\n",
    "        pay = 40 * rate\n",
    "        pay += (hours - 40) * rate * 1.5\n",
    "    elif hours <= 40:\n",
    "        pay = hours * rate\n",
    "    return pay\n",
    "\n",
    "\n",
    "try:\n",
    "    hours = int(input(\"Enter Hours: \"))\n",
    "    rate = int(input(\"Enter Rate: \"))\n",
    "    print(\"Pay: \", computePay(hours, rate))\n",
    "except:\n",
    "    print(\"Enter Whole Number\")\n",
    "    quit()"
   ]
  },
  {
   "cell_type": "code",
   "execution_count": null,
   "metadata": {},
   "outputs": [],
   "source": []
  }
 ],
 "metadata": {
  "kernelspec": {
   "display_name": "Python 3",
   "language": "python",
   "name": "python3"
  },
  "language_info": {
   "codemirror_mode": {
    "name": "ipython",
    "version": 3
   },
   "file_extension": ".py",
   "mimetype": "text/x-python",
   "name": "python",
   "nbconvert_exporter": "python",
   "pygments_lexer": "ipython3",
   "version": "3.7.3"
  }
 },
 "nbformat": 4,
 "nbformat_minor": 2
}
